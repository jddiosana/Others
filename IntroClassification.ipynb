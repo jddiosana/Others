{
  "nbformat": 4,
  "nbformat_minor": 0,
  "metadata": {
    "colab": {
      "provenance": [],
      "toc_visible": true
    },
    "kernelspec": {
      "name": "python3",
      "display_name": "Python 3"
    }
  },
  "cells": [
    {
      "cell_type": "markdown",
      "metadata": {
        "id": "4kNt53LjNRCa"
      },
      "source": [
        "# Classification  \n",
        "We use features, and a classifier, to predict categorical variables.  \n",
        "\n",
        "### Steps in doing Classification\n",
        "1. Import Packages\n",
        "2. Load dataset  and set X and y\n",
        "3. Train-test Split  \n",
        "4. Descriptive and Prescriptive Analytics on Train Set  \n",
        "5. Predictive Analytics from Train Set to Test Set  \n",
        "6. Metrics (accuracy, confusion matrix)  \n",
        "7. Explain Results  "
      ]
    },
    {
      "cell_type": "markdown",
      "metadata": {
        "id": "xINUwnbqdUK7"
      },
      "source": [
        "# 1. Import Packages"
      ]
    },
    {
      "cell_type": "code",
      "metadata": {
        "id": "-ttO3rdbNE1Y"
      },
      "source": [
        "# IMPORT GENERIC PACKAGES\n",
        "import numpy as np # numerical calc package\n",
        "import pandas as pd # holds data\n",
        "import matplotlib.pyplot as plt # plotting library\n",
        "import seaborn as sns # pretty plotting\n",
        "\n",
        "sns.set(rc={'figure.figsize':(20,10)})\n",
        "\n",
        "from sklearn.model_selection import train_test_split # split dataset\n",
        "from sklearn.linear_model import LogisticRegression # linear model for classification\n",
        "from sklearn.metrics import confusion_matrix"
      ],
      "execution_count": null,
      "outputs": []
    },
    {
      "cell_type": "markdown",
      "metadata": {
        "id": "bRG5nBh-aO9j"
      },
      "source": [
        "# 2. Load Data"
      ]
    },
    {
      "cell_type": "code",
      "metadata": {
        "id": "uNVHmdHvWUfs"
      },
      "source": [
        "data = pd.read_csv('advertising_classification.csv')"
      ],
      "execution_count": null,
      "outputs": []
    },
    {
      "cell_type": "code",
      "metadata": {
        "id": "fMCTWV2FaSWb",
        "colab": {
          "base_uri": "https://localhost:8080/",
          "height": 197
        },
        "outputId": "77a31d19-5b8d-4304-c7ec-67c0553cdbe1"
      },
      "source": [
        "data.head(5)"
      ],
      "execution_count": null,
      "outputs": [
        {
          "output_type": "execute_result",
          "data": {
            "text/html": [
              "<div>\n",
              "<style scoped>\n",
              "    .dataframe tbody tr th:only-of-type {\n",
              "        vertical-align: middle;\n",
              "    }\n",
              "\n",
              "    .dataframe tbody tr th {\n",
              "        vertical-align: top;\n",
              "    }\n",
              "\n",
              "    .dataframe thead th {\n",
              "        text-align: right;\n",
              "    }\n",
              "</style>\n",
              "<table border=\"1\" class=\"dataframe\">\n",
              "  <thead>\n",
              "    <tr style=\"text-align: right;\">\n",
              "      <th></th>\n",
              "      <th>Daily Time Spent on Site</th>\n",
              "      <th>Age</th>\n",
              "      <th>Area Income</th>\n",
              "      <th>Daily Internet Usage</th>\n",
              "      <th>Ad Topic Line</th>\n",
              "      <th>City</th>\n",
              "      <th>Male</th>\n",
              "      <th>Country</th>\n",
              "      <th>Timestamp</th>\n",
              "      <th>Clicked on Ad</th>\n",
              "    </tr>\n",
              "  </thead>\n",
              "  <tbody>\n",
              "    <tr>\n",
              "      <th>0</th>\n",
              "      <td>68.95</td>\n",
              "      <td>35</td>\n",
              "      <td>61833.90</td>\n",
              "      <td>256.09</td>\n",
              "      <td>Cloned 5thgeneration orchestration</td>\n",
              "      <td>Wrightburgh</td>\n",
              "      <td>0</td>\n",
              "      <td>Tunisia</td>\n",
              "      <td>2016-03-27 00:53:11</td>\n",
              "      <td>0</td>\n",
              "    </tr>\n",
              "    <tr>\n",
              "      <th>1</th>\n",
              "      <td>80.23</td>\n",
              "      <td>31</td>\n",
              "      <td>68441.85</td>\n",
              "      <td>193.77</td>\n",
              "      <td>Monitored national standardization</td>\n",
              "      <td>West Jodi</td>\n",
              "      <td>1</td>\n",
              "      <td>Nauru</td>\n",
              "      <td>2016-04-04 01:39:02</td>\n",
              "      <td>0</td>\n",
              "    </tr>\n",
              "    <tr>\n",
              "      <th>2</th>\n",
              "      <td>69.47</td>\n",
              "      <td>26</td>\n",
              "      <td>59785.94</td>\n",
              "      <td>236.50</td>\n",
              "      <td>Organic bottom-line service-desk</td>\n",
              "      <td>Davidton</td>\n",
              "      <td>0</td>\n",
              "      <td>San Marino</td>\n",
              "      <td>2016-03-13 20:35:42</td>\n",
              "      <td>0</td>\n",
              "    </tr>\n",
              "    <tr>\n",
              "      <th>3</th>\n",
              "      <td>74.15</td>\n",
              "      <td>29</td>\n",
              "      <td>54806.18</td>\n",
              "      <td>245.89</td>\n",
              "      <td>Triple-buffered reciprocal time-frame</td>\n",
              "      <td>West Terrifurt</td>\n",
              "      <td>1</td>\n",
              "      <td>Italy</td>\n",
              "      <td>2016-01-10 02:31:19</td>\n",
              "      <td>0</td>\n",
              "    </tr>\n",
              "    <tr>\n",
              "      <th>4</th>\n",
              "      <td>68.37</td>\n",
              "      <td>35</td>\n",
              "      <td>73889.99</td>\n",
              "      <td>225.58</td>\n",
              "      <td>Robust logistical utilization</td>\n",
              "      <td>South Manuel</td>\n",
              "      <td>0</td>\n",
              "      <td>Iceland</td>\n",
              "      <td>2016-06-03 03:36:18</td>\n",
              "      <td>0</td>\n",
              "    </tr>\n",
              "  </tbody>\n",
              "</table>\n",
              "</div>"
            ],
            "text/plain": [
              "   Daily Time Spent on Site  Age  ...            Timestamp  Clicked on Ad\n",
              "0                     68.95   35  ...  2016-03-27 00:53:11              0\n",
              "1                     80.23   31  ...  2016-04-04 01:39:02              0\n",
              "2                     69.47   26  ...  2016-03-13 20:35:42              0\n",
              "3                     74.15   29  ...  2016-01-10 02:31:19              0\n",
              "4                     68.37   35  ...  2016-06-03 03:36:18              0\n",
              "\n",
              "[5 rows x 10 columns]"
            ]
          },
          "metadata": {
            "tags": []
          },
          "execution_count": 3
        }
      ]
    },
    {
      "cell_type": "markdown",
      "metadata": {
        "id": "RMy_sNrCajaq"
      },
      "source": [
        "### Dataset Description  \n",
        "\n",
        "We want to predict if the person clicked on the ad based on features such as:  \n",
        "\n",
        "- daily time spent on site\n",
        "- area income\n",
        "- daily internet usage"
      ]
    },
    {
      "cell_type": "code",
      "metadata": {
        "id": "Ik4eJKDMvGMA"
      },
      "source": [
        "# write list of features we want to use\n",
        "features = [\"Daily Time Spent on Site\", 'Area Income', \"Age\"]\n",
        "\n",
        "# Set X\n",
        "X = data[features]"
      ],
      "execution_count": null,
      "outputs": []
    },
    {
      "cell_type": "code",
      "metadata": {
        "id": "pNfQf8iywEdr",
        "colab": {
          "base_uri": "https://localhost:8080/",
          "height": 197
        },
        "outputId": "222112f4-8012-4603-ca01-6dcc76669be6"
      },
      "source": [
        "X.head()"
      ],
      "execution_count": null,
      "outputs": [
        {
          "output_type": "execute_result",
          "data": {
            "text/html": [
              "<div>\n",
              "<style scoped>\n",
              "    .dataframe tbody tr th:only-of-type {\n",
              "        vertical-align: middle;\n",
              "    }\n",
              "\n",
              "    .dataframe tbody tr th {\n",
              "        vertical-align: top;\n",
              "    }\n",
              "\n",
              "    .dataframe thead th {\n",
              "        text-align: right;\n",
              "    }\n",
              "</style>\n",
              "<table border=\"1\" class=\"dataframe\">\n",
              "  <thead>\n",
              "    <tr style=\"text-align: right;\">\n",
              "      <th></th>\n",
              "      <th>Daily Time Spent on Site</th>\n",
              "      <th>Area Income</th>\n",
              "      <th>Age</th>\n",
              "    </tr>\n",
              "  </thead>\n",
              "  <tbody>\n",
              "    <tr>\n",
              "      <th>0</th>\n",
              "      <td>68.95</td>\n",
              "      <td>61833.90</td>\n",
              "      <td>35</td>\n",
              "    </tr>\n",
              "    <tr>\n",
              "      <th>1</th>\n",
              "      <td>80.23</td>\n",
              "      <td>68441.85</td>\n",
              "      <td>31</td>\n",
              "    </tr>\n",
              "    <tr>\n",
              "      <th>2</th>\n",
              "      <td>69.47</td>\n",
              "      <td>59785.94</td>\n",
              "      <td>26</td>\n",
              "    </tr>\n",
              "    <tr>\n",
              "      <th>3</th>\n",
              "      <td>74.15</td>\n",
              "      <td>54806.18</td>\n",
              "      <td>29</td>\n",
              "    </tr>\n",
              "    <tr>\n",
              "      <th>4</th>\n",
              "      <td>68.37</td>\n",
              "      <td>73889.99</td>\n",
              "      <td>35</td>\n",
              "    </tr>\n",
              "  </tbody>\n",
              "</table>\n",
              "</div>"
            ],
            "text/plain": [
              "   Daily Time Spent on Site  Area Income  Age\n",
              "0                     68.95     61833.90   35\n",
              "1                     80.23     68441.85   31\n",
              "2                     69.47     59785.94   26\n",
              "3                     74.15     54806.18   29\n",
              "4                     68.37     73889.99   35"
            ]
          },
          "metadata": {
            "tags": []
          },
          "execution_count": 5
        }
      ]
    },
    {
      "cell_type": "code",
      "metadata": {
        "id": "uPj6-tKzaTSf"
      },
      "source": [
        "# write list of features we want to use\n",
        "features = [\"Daily Time Spent on Site\", 'Area Income', \"Age\"]\n",
        "\n",
        "# Set X\n",
        "X_temp = data[features]\n",
        "\n",
        "\n",
        "# Convert text to numeric\n",
        "X = pd.get_dummies(X_temp)\n",
        "\n",
        "# Set y\n",
        "y = data[\"Clicked on Ad\"]"
      ],
      "execution_count": null,
      "outputs": []
    },
    {
      "cell_type": "markdown",
      "metadata": {
        "id": "UOFASq7VePqZ"
      },
      "source": [
        "# 3. Train-Test Split  \n",
        "We use the training set for descriptive and diagnostic analytics and use the model we develop here to do predictive analytics on the test set."
      ]
    },
    {
      "cell_type": "code",
      "metadata": {
        "id": "_5I0FCC1dNZQ"
      },
      "source": [
        "X_train, X_test, y_train, y_test = train_test_split(X, y, test_size = 0.4, random_state = 42)"
      ],
      "execution_count": null,
      "outputs": []
    },
    {
      "cell_type": "markdown",
      "metadata": {
        "id": "yjE0h2uTf7IV"
      },
      "source": [
        "# 4. Predictive Analytics\n",
        "Train a model that predicts if the person clicked on the ad or not."
      ]
    },
    {
      "cell_type": "code",
      "metadata": {
        "id": "ZyryF3s6fshV",
        "colab": {
          "base_uri": "https://localhost:8080/",
          "height": 72
        },
        "outputId": "36604f62-df71-4533-c1ea-39a63643e288"
      },
      "source": [
        "# initialize model\n",
        "log_reg = LogisticRegression()\n",
        "\n",
        "# fit model\n",
        "log_reg.fit(X_train, y_train)\n",
        "\n",
        "# metrics (accuracy)\n",
        "acc = log_reg.score(X_test, y_test)\n",
        "\n",
        "\n",
        "# predictions\n",
        "y_pred = log_reg.predict(X_test)"
      ],
      "execution_count": null,
      "outputs": [
        {
          "output_type": "stream",
          "text": [
            "/usr/local/lib/python3.6/dist-packages/sklearn/linear_model/logistic.py:432: FutureWarning: Default solver will be changed to 'lbfgs' in 0.22. Specify a solver to silence this warning.\n",
            "  FutureWarning)\n"
          ],
          "name": "stderr"
        }
      ]
    },
    {
      "cell_type": "code",
      "metadata": {
        "id": "Oa0MNICtBUz6",
        "colab": {
          "base_uri": "https://localhost:8080/",
          "height": 34
        },
        "outputId": "43114723-75e9-484f-c93a-be83cfa25abf"
      },
      "source": [
        "# feature importance\n",
        "log_reg.coef_"
      ],
      "execution_count": null,
      "outputs": [
        {
          "output_type": "execute_result",
          "data": {
            "text/plain": [
              "array([[-9.01564180e-02, -4.06404696e-05,  2.28071596e-01]])"
            ]
          },
          "metadata": {
            "tags": []
          },
          "execution_count": 9
        }
      ]
    },
    {
      "cell_type": "markdown",
      "metadata": {
        "id": "rxFm6SMukEkM"
      },
      "source": [
        "# 5. Metrics"
      ]
    },
    {
      "cell_type": "markdown",
      "metadata": {
        "id": "vZ_YRI5ql5sr"
      },
      "source": [
        "Classification Accuracy is what we usually mean, when we use the term accuracy. It is the ratio of number of correct predictions to the total number of input samples:\n",
        "\n",
        "$\\begin{equation}\n",
        "accuracy = \\frac{Number\\ of\\ correct\\ predictions}{Total\\ number\\ of\\ predictions\\ made}\n",
        "\\end{equation}$\n",
        "\n"
      ]
    },
    {
      "cell_type": "code",
      "metadata": {
        "id": "6ndjGNUMjP5O",
        "colab": {
          "base_uri": "https://localhost:8080/",
          "height": 34
        },
        "outputId": "7ba5256b-97bf-402f-8c4b-49ffaeca023b"
      },
      "source": [
        "# accuracy\n",
        "acc"
      ],
      "execution_count": null,
      "outputs": [
        {
          "output_type": "execute_result",
          "data": {
            "text/plain": [
              "0.895"
            ]
          },
          "metadata": {
            "tags": []
          },
          "execution_count": 10
        }
      ]
    },
    {
      "cell_type": "markdown",
      "metadata": {
        "id": "giVIlvPzlxOM"
      },
      "source": [
        "### What is a Confusion Matrix?  \n",
        "A confusion matrix is a summary of prediction results on a classification problem.  \n",
        "\n",
        "The number of correct and incorrect predictions are summarized with count values and broken down by each class. This is the key to the confusion matrix.  \n",
        "\n",
        "The confusion matrix shows the ways in which your classification model is confused when it makes predictions.  \n",
        "\n",
        "It gives you insight not only into the errors being made by your classifier but more importantly the types of errors that are being made.  \n",
        "\n",
        "It is this breakdown that overcomes the limitation of using classification accuracy alone.  "
      ]
    },
    {
      "cell_type": "code",
      "metadata": {
        "id": "ENRacV8Pjvzd",
        "colab": {
          "base_uri": "https://localhost:8080/",
          "height": 52
        },
        "outputId": "6a214882-d653-43e6-fbfb-aaded49835a2"
      },
      "source": [
        "# confusion matrix\n",
        "cf = confusion_matrix(y_test, y_pred)\n",
        "cf"
      ],
      "execution_count": null,
      "outputs": [
        {
          "output_type": "execute_result",
          "data": {
            "text/plain": [
              "array([[183,   8],\n",
              "       [ 34, 175]])"
            ]
          },
          "metadata": {
            "tags": []
          },
          "execution_count": 11
        }
      ]
    },
    {
      "cell_type": "code",
      "metadata": {
        "id": "Lp49Fx6mjyV5",
        "colab": {
          "base_uri": "https://localhost:8080/",
          "height": 617
        },
        "outputId": "70e5db3d-c617-4333-abd9-e12d15ca454e"
      },
      "source": [
        "# heatmap of confusion matrix\n",
        "sns.heatmap(cf, annot = True)"
      ],
      "execution_count": null,
      "outputs": [
        {
          "output_type": "execute_result",
          "data": {
            "text/plain": [
              "<matplotlib.axes._subplots.AxesSubplot at 0x7f6234a86b70>"
            ]
          },
          "metadata": {
            "tags": []
          },
          "execution_count": 12
        },
        {
          "output_type": "display_data",
          "data": {
            "image/png": "[encoded data removed]",
            "text/plain": [
              "<Figure size 1440x720 with 2 Axes>"
            ]
          },
          "metadata": {
            "tags": []
          }
        }
      ]
    },
    {
      "cell_type": "markdown",
      "metadata": {
        "id": "qIcZCHdqkAS6"
      },
      "source": [
        "# 7. Explain Results"
      ]
    },
    {
      "cell_type": "markdown",
      "metadata": {
        "id": "kk86alYwkOOB"
      },
      "source": [
        "88% accuracy means the model is able to predict ad clicks but it can be improved.  \n",
        "For the confusion matrix, we want the diagonal values to be higher than off diagonal values.   \n",
        "For the heatmap of confusion matrix, we want the diagonal to be darker than off diagonal."
      ]
    },
    {
      "cell_type": "markdown",
      "metadata": {
        "id": "BjWRXnJ7PUwp"
      },
      "source": [
        "[Guide to confusion matrices](https://www.dataschool.io/simple-guide-to-confusion-matrix-terminology/)"
      ]
    },
    {
      "cell_type": "markdown",
      "metadata": {
        "id": "2PeELdb-ipUD"
      },
      "source": [
        "# 8. Explain Predictions\n",
        "\n",
        "We can try out our model with new data to see if we can predict that the user will click on the ad or not."
      ]
    },
    {
      "cell_type": "code",
      "metadata": {
        "id": "cxSaWojsf53M",
        "colab": {
          "base_uri": "https://localhost:8080/",
          "height": 123
        },
        "outputId": "b8965ecc-ef4e-40de-c22e-c6326391711d"
      },
      "source": [
        "# Assign test data into new variable\n",
        "test_data = X_test\n",
        "\n",
        "# Create column to insert predictions\n",
        "test_data['predictions'] = y_pred"
      ],
      "execution_count": null,
      "outputs": [
        {
          "output_type": "stream",
          "text": [
            "/usr/local/lib/python3.6/dist-packages/ipykernel_launcher.py:4: SettingWithCopyWarning: \n",
            "A value is trying to be set on a copy of a slice from a DataFrame.\n",
            "Try using .loc[row_indexer,col_indexer] = value instead\n",
            "\n",
            "See the caveats in the documentation: http://pandas.pydata.org/pandas-docs/stable/indexing.html#indexing-view-versus-copy\n",
            "  after removing the cwd from sys.path.\n"
          ],
          "name": "stderr"
        }
      ]
    },
    {
      "cell_type": "code",
      "metadata": {
        "id": "PQSclFZAgNjl",
        "colab": {
          "base_uri": "https://localhost:8080/",
          "height": 287
        },
        "outputId": "418eb2aa-1a0c-4ced-dc4f-835ff154bdbe"
      },
      "source": [
        "# Describe why the\n",
        "test_data[test_data['predictions']==0].describe()"
      ],
      "execution_count": null,
      "outputs": [
        {
          "output_type": "execute_result",
          "data": {
            "text/html": [
              "<div>\n",
              "<style scoped>\n",
              "    .dataframe tbody tr th:only-of-type {\n",
              "        vertical-align: middle;\n",
              "    }\n",
              "\n",
              "    .dataframe tbody tr th {\n",
              "        vertical-align: top;\n",
              "    }\n",
              "\n",
              "    .dataframe thead th {\n",
              "        text-align: right;\n",
              "    }\n",
              "</style>\n",
              "<table border=\"1\" class=\"dataframe\">\n",
              "  <thead>\n",
              "    <tr style=\"text-align: right;\">\n",
              "      <th></th>\n",
              "      <th>Daily Time Spent on Site</th>\n",
              "      <th>Area Income</th>\n",
              "      <th>Age</th>\n",
              "      <th>predictions</th>\n",
              "    </tr>\n",
              "  </thead>\n",
              "  <tbody>\n",
              "    <tr>\n",
              "      <th>count</th>\n",
              "      <td>217.000000</td>\n",
              "      <td>217.000000</td>\n",
              "      <td>217.000000</td>\n",
              "      <td>217.0</td>\n",
              "    </tr>\n",
              "    <tr>\n",
              "      <th>mean</th>\n",
              "      <td>75.477005</td>\n",
              "      <td>59816.805853</td>\n",
              "      <td>30.294931</td>\n",
              "      <td>0.0</td>\n",
              "    </tr>\n",
              "    <tr>\n",
              "      <th>std</th>\n",
              "      <td>8.870833</td>\n",
              "      <td>10314.410925</td>\n",
              "      <td>4.995889</td>\n",
              "      <td>0.0</td>\n",
              "    </tr>\n",
              "    <tr>\n",
              "      <th>min</th>\n",
              "      <td>43.700000</td>\n",
              "      <td>25408.210000</td>\n",
              "      <td>19.000000</td>\n",
              "      <td>0.0</td>\n",
              "    </tr>\n",
              "    <tr>\n",
              "      <th>25%</th>\n",
              "      <td>70.580000</td>\n",
              "      <td>54787.370000</td>\n",
              "      <td>27.000000</td>\n",
              "      <td>0.0</td>\n",
              "    </tr>\n",
              "    <tr>\n",
              "      <th>50%</th>\n",
              "      <td>76.840000</td>\n",
              "      <td>61608.230000</td>\n",
              "      <td>30.000000</td>\n",
              "      <td>0.0</td>\n",
              "    </tr>\n",
              "    <tr>\n",
              "      <th>75%</th>\n",
              "      <td>81.580000</td>\n",
              "      <td>67080.940000</td>\n",
              "      <td>33.000000</td>\n",
              "      <td>0.0</td>\n",
              "    </tr>\n",
              "    <tr>\n",
              "      <th>max</th>\n",
              "      <td>90.970000</td>\n",
              "      <td>77460.070000</td>\n",
              "      <td>45.000000</td>\n",
              "      <td>0.0</td>\n",
              "    </tr>\n",
              "  </tbody>\n",
              "</table>\n",
              "</div>"
            ],
            "text/plain": [
              "       Daily Time Spent on Site   Area Income         Age  predictions\n",
              "count                217.000000    217.000000  217.000000        217.0\n",
              "mean                  75.477005  59816.805853   30.294931          0.0\n",
              "std                    8.870833  10314.410925    4.995889          0.0\n",
              "min                   43.700000  25408.210000   19.000000          0.0\n",
              "25%                   70.580000  54787.370000   27.000000          0.0\n",
              "50%                   76.840000  61608.230000   30.000000          0.0\n",
              "75%                   81.580000  67080.940000   33.000000          0.0\n",
              "max                   90.970000  77460.070000   45.000000          0.0"
            ]
          },
          "metadata": {
            "tags": []
          },
          "execution_count": 14
        }
      ]
    },
    {
      "cell_type": "code",
      "metadata": {
        "id": "cvm6HPNWgSX5",
        "colab": {
          "base_uri": "https://localhost:8080/",
          "height": 287
        },
        "outputId": "f02c9b17-fde1-4514-e657-9931a14244f7"
      },
      "source": [
        "test_data[test_data['predictions']==1].describe()"
      ],
      "execution_count": null,
      "outputs": [
        {
          "output_type": "execute_result",
          "data": {
            "text/html": [
              "<div>\n",
              "<style scoped>\n",
              "    .dataframe tbody tr th:only-of-type {\n",
              "        vertical-align: middle;\n",
              "    }\n",
              "\n",
              "    .dataframe tbody tr th {\n",
              "        vertical-align: top;\n",
              "    }\n",
              "\n",
              "    .dataframe thead th {\n",
              "        text-align: right;\n",
              "    }\n",
              "</style>\n",
              "<table border=\"1\" class=\"dataframe\">\n",
              "  <thead>\n",
              "    <tr style=\"text-align: right;\">\n",
              "      <th></th>\n",
              "      <th>Daily Time Spent on Site</th>\n",
              "      <th>Area Income</th>\n",
              "      <th>Age</th>\n",
              "      <th>predictions</th>\n",
              "    </tr>\n",
              "  </thead>\n",
              "  <tbody>\n",
              "    <tr>\n",
              "      <th>count</th>\n",
              "      <td>183.000000</td>\n",
              "      <td>183.000000</td>\n",
              "      <td>183.000000</td>\n",
              "      <td>183.0</td>\n",
              "    </tr>\n",
              "    <tr>\n",
              "      <th>mean</th>\n",
              "      <td>51.334262</td>\n",
              "      <td>49936.225792</td>\n",
              "      <td>42.857923</td>\n",
              "      <td>1.0</td>\n",
              "    </tr>\n",
              "    <tr>\n",
              "      <th>std</th>\n",
              "      <td>11.902787</td>\n",
              "      <td>14468.091209</td>\n",
              "      <td>6.994624</td>\n",
              "      <td>0.0</td>\n",
              "    </tr>\n",
              "    <tr>\n",
              "      <th>min</th>\n",
              "      <td>32.600000</td>\n",
              "      <td>14548.060000</td>\n",
              "      <td>28.000000</td>\n",
              "      <td>1.0</td>\n",
              "    </tr>\n",
              "    <tr>\n",
              "      <th>25%</th>\n",
              "      <td>41.745000</td>\n",
              "      <td>40585.375000</td>\n",
              "      <td>38.000000</td>\n",
              "      <td>1.0</td>\n",
              "    </tr>\n",
              "    <tr>\n",
              "      <th>50%</th>\n",
              "      <td>49.810000</td>\n",
              "      <td>50666.500000</td>\n",
              "      <td>43.000000</td>\n",
              "      <td>1.0</td>\n",
              "    </tr>\n",
              "    <tr>\n",
              "      <th>75%</th>\n",
              "      <td>59.435000</td>\n",
              "      <td>61540.355000</td>\n",
              "      <td>49.000000</td>\n",
              "      <td>1.0</td>\n",
              "    </tr>\n",
              "    <tr>\n",
              "      <th>max</th>\n",
              "      <td>84.450000</td>\n",
              "      <td>77871.750000</td>\n",
              "      <td>60.000000</td>\n",
              "      <td>1.0</td>\n",
              "    </tr>\n",
              "  </tbody>\n",
              "</table>\n",
              "</div>"
            ],
            "text/plain": [
              "       Daily Time Spent on Site   Area Income         Age  predictions\n",
              "count                183.000000    183.000000  183.000000        183.0\n",
              "mean                  51.334262  49936.225792   42.857923          1.0\n",
              "std                   11.902787  14468.091209    6.994624          0.0\n",
              "min                   32.600000  14548.060000   28.000000          1.0\n",
              "25%                   41.745000  40585.375000   38.000000          1.0\n",
              "50%                   49.810000  50666.500000   43.000000          1.0\n",
              "75%                   59.435000  61540.355000   49.000000          1.0\n",
              "max                   84.450000  77871.750000   60.000000          1.0"
            ]
          },
          "metadata": {
            "tags": []
          },
          "execution_count": 15
        }
      ]
    },
    {
      "cell_type": "markdown",
      "metadata": {
        "id": "H5ndkJ1egt-x"
      },
      "source": [
        "# 9. Predict on New Data"
      ]
    },
    {
      "cell_type": "code",
      "metadata": {
        "id": "t2vcLlDBi5qF",
        "colab": {
          "base_uri": "https://localhost:8080/",
          "height": 34
        },
        "outputId": "875fc36f-fba9-42df-e113-26ba86086c6a"
      },
      "source": [
        "# Input new data on daily time spent on site, area income and age\n",
        "new_data = [[300, 10000, 24]]\n",
        "\n",
        "log_reg.predict(new_data) # 1 means the user will click, 0 means the user won't"
      ],
      "execution_count": null,
      "outputs": [
        {
          "output_type": "execute_result",
          "data": {
            "text/plain": [
              "array([0])"
            ]
          },
          "metadata": {
            "tags": []
          },
          "execution_count": 16
        }
      ]
    },
    {
      "cell_type": "code",
      "metadata": {
        "id": "Zda2ngMdkkDW",
        "colab": {
          "base_uri": "https://localhost:8080/",
          "height": 34
        },
        "outputId": "e7083af9-d83d-419a-dbd1-8e325ddd50e2"
      },
      "source": [
        "another_data = [[10, 1000, 24]]\n",
        "\n",
        "log_reg.predict(another_data) # 1 means the user will click, 0 means the user won't"
      ],
      "execution_count": null,
      "outputs": [
        {
          "output_type": "execute_result",
          "data": {
            "text/plain": [
              "array([1])"
            ]
          },
          "metadata": {
            "tags": []
          },
          "execution_count": 18
        }
      ]
    }
  ]
}