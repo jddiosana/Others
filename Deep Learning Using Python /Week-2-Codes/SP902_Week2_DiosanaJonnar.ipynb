{
 "cells": [
  {
   "cell_type": "markdown",
   "metadata": {},
   "source": [
    "### Instantiating the VGG16 model\n",
    "\n",
    "For this assignment, we will use the VGG16 model (pre-trained on the ImageNet dataset) to train the cats and dogs dataset we have downloaded."
   ]
  },
  {
   "cell_type": "code",
   "execution_count": 1,
   "metadata": {},
   "outputs": [],
   "source": [
    "from tensorflow.keras.applications import VGG16\n",
    "\n",
    "conv_base = VGG16(weights='imagenet',\n",
    "                  include_top=False,\n",
    "                  input_shape=(150, 150, 3))"
   ]
  },
  {
   "cell_type": "code",
   "execution_count": 2,
   "metadata": {},
   "outputs": [
    {
     "name": "stdout",
     "output_type": "stream",
     "text": [
      "Model: \"vgg16\"\n",
      "_________________________________________________________________\n",
      " Layer (type)                Output Shape              Param #   \n",
      "=================================================================\n",
      " input_1 (InputLayer)        [(None, 150, 150, 3)]     0         \n",
      "                                                                 \n",
      " block1_conv1 (Conv2D)       (None, 150, 150, 64)      1792      \n",
      "                                                                 \n",
      " block1_conv2 (Conv2D)       (None, 150, 150, 64)      36928     \n",
      "                                                                 \n",
      " block1_pool (MaxPooling2D)  (None, 75, 75, 64)        0         \n",
      "                                                                 \n",
      " block2_conv1 (Conv2D)       (None, 75, 75, 128)       73856     \n",
      "                                                                 \n",
      " block2_conv2 (Conv2D)       (None, 75, 75, 128)       147584    \n",
      "                                                                 \n",
      " block2_pool (MaxPooling2D)  (None, 37, 37, 128)       0         \n",
      "                                                                 \n",
      " block3_conv1 (Conv2D)       (None, 37, 37, 256)       295168    \n",
      "                                                                 \n",
      " block3_conv2 (Conv2D)       (None, 37, 37, 256)       590080    \n",
      "                                                                 \n",
      " block3_conv3 (Conv2D)       (None, 37, 37, 256)       590080    \n",
      "                                                                 \n",
      " block3_pool (MaxPooling2D)  (None, 18, 18, 256)       0         \n",
      "                                                                 \n",
      " block4_conv1 (Conv2D)       (None, 18, 18, 512)       1180160   \n",
      "                                                                 \n",
      " block4_conv2 (Conv2D)       (None, 18, 18, 512)       2359808   \n",
      "                                                                 \n",
      " block4_conv3 (Conv2D)       (None, 18, 18, 512)       2359808   \n",
      "                                                                 \n",
      " block4_pool (MaxPooling2D)  (None, 9, 9, 512)         0         \n",
      "                                                                 \n",
      " block5_conv1 (Conv2D)       (None, 9, 9, 512)         2359808   \n",
      "                                                                 \n",
      " block5_conv2 (Conv2D)       (None, 9, 9, 512)         2359808   \n",
      "                                                                 \n",
      " block5_conv3 (Conv2D)       (None, 9, 9, 512)         2359808   \n",
      "                                                                 \n",
      " block5_pool (MaxPooling2D)  (None, 4, 4, 512)         0         \n",
      "                                                                 \n",
      "=================================================================\n",
      "Total params: 14,714,688\n",
      "Trainable params: 14,714,688\n",
      "Non-trainable params: 0\n",
      "_________________________________________________________________\n"
     ]
    }
   ],
   "source": [
    "conv_base.summary()     "
   ]
  },
  {
   "cell_type": "markdown",
   "metadata": {},
   "source": [
    "### Image processing\n",
    "\n",
    "Here, we will extract images as numpy arrays for the training of the model. \n",
    "\n",
    "**Note:** Please take note that I've already arranged the dataset in my local directory before running this code. I did not write the code anymore for transferring and splitting train and test images as I find it easier if I just copy and paste them in my local computer manually (i.e., it is my personal preference to do prior changes needed manually than coding it). Either way, it will bring the similar result as seen in the discussion."
   ]
  },
  {
   "cell_type": "code",
   "execution_count": 3,
   "metadata": {},
   "outputs": [
    {
     "name": "stdout",
     "output_type": "stream",
     "text": [
      "Found 2000 images belonging to 2 classes.\n",
      "WARNING:tensorflow:AutoGraph could not transform <function Model.make_predict_function.<locals>.predict_function at 0x000002A6BEFA1C18> and will run it as-is.\n",
      "Please report this to the TensorFlow team. When filing the bug, set the verbosity to 10 (on Linux, `export AUTOGRAPH_VERBOSITY=10`) and attach the full output.\n",
      "Cause: 'arguments' object has no attribute 'posonlyargs'\n",
      "To silence this warning, decorate the function with @tf.autograph.experimental.do_not_convert\n",
      "WARNING: AutoGraph could not transform <function Model.make_predict_function.<locals>.predict_function at 0x000002A6BEFA1C18> and will run it as-is.\n",
      "Please report this to the TensorFlow team. When filing the bug, set the verbosity to 10 (on Linux, `export AUTOGRAPH_VERBOSITY=10`) and attach the full output.\n",
      "Cause: 'arguments' object has no attribute 'posonlyargs'\n",
      "To silence this warning, decorate the function with @tf.autograph.experimental.do_not_convert\n",
      "Found 1000 images belonging to 2 classes.\n",
      "Found 1000 images belonging to 2 classes.\n"
     ]
    }
   ],
   "source": [
    "#importing necessary libraries\n",
    "import os\n",
    "import numpy as np\n",
    "from keras.preprocessing.image import ImageDataGenerator\n",
    "\n",
    "base_dir = 'cats_and_dogs_small'                             #the file directory name in my local computer\n",
    "\n",
    "#the directories inside the base directory\n",
    "train_dir = os.path.join(base_dir, 'train')\n",
    "validation_dir = os.path.join(base_dir, 'validation')\n",
    "test_dir = os.path.join(base_dir, 'test')\n",
    "\n",
    "datagen = ImageDataGenerator(rescale=1./255)\n",
    "batch_size = 25                                              #changing batch_size to 25\n",
    "\n",
    "#processing the image\n",
    "def extract_features(directory, sample_count):\n",
    "    features = np.zeros(shape=(sample_count, 4, 4, 512))\n",
    "    labels = np.zeros(shape=(sample_count))\n",
    "    generator = datagen.flow_from_directory(\n",
    "        directory,\n",
    "        target_size=(150, 150),\n",
    "        batch_size=batch_size,\n",
    "        class_mode='binary')\n",
    "    i = 0\n",
    "    for inputs_batch, labels_batch in generator:\n",
    "        features_batch = conv_base.predict(inputs_batch)\n",
    "        features[i * batch_size : (i + 1) * batch_size] = features_batch\n",
    "        labels[i * batch_size : (i + 1) * batch_size] = labels_batch\n",
    "        i += 1\n",
    "        if i * batch_size >= sample_count:\n",
    "            break\n",
    "    return features, labels\n",
    "\n",
    "train_features, train_labels = extract_features(train_dir, 2000)\n",
    "validation_features, validation_labels = extract_features(validation_dir, 1000)\n",
    "test_features, test_labels = extract_features(test_dir, 1000)"
   ]
  },
  {
   "cell_type": "code",
   "execution_count": 4,
   "metadata": {},
   "outputs": [],
   "source": [
    "train_features = np.reshape(train_features, (2000, 4 * 4 * 512))\n",
    "validation_features = np.reshape(validation_features, (1000, 4 * 4 * 512))\n",
    "test_features = np.reshape(test_features, (1000, 4 * 4 * 512))"
   ]
  },
  {
   "cell_type": "markdown",
   "metadata": {},
   "source": [
    "### Training the model\n",
    "\n",
    "Now that we're done processing the images and creating a densely-connected classifier, we can now train our model.\n",
    "\n",
    "**Note:** For this peer-graded assignment, our task is to use the following configurations:\n",
    "* batch_size = 25\n",
    "* loss = 'binary_crossentropy'\n",
    "* adding new dense layer with activation='relu'\n",
    "\n",
    "The following cell will show the code for training the model using the configurations needed for this assignment."
   ]
  },
  {
   "cell_type": "code",
   "execution_count": 5,
   "metadata": {},
   "outputs": [
    {
     "name": "stdout",
     "output_type": "stream",
     "text": [
      "Epoch 1/30\n",
      "WARNING:tensorflow:AutoGraph could not transform <function Model.make_train_function.<locals>.train_function at 0x000002A6C0838E58> and will run it as-is.\n",
      "Please report this to the TensorFlow team. When filing the bug, set the verbosity to 10 (on Linux, `export AUTOGRAPH_VERBOSITY=10`) and attach the full output.\n",
      "Cause: 'arguments' object has no attribute 'posonlyargs'\n",
      "To silence this warning, decorate the function with @tf.autograph.experimental.do_not_convert\n",
      "WARNING: AutoGraph could not transform <function Model.make_train_function.<locals>.train_function at 0x000002A6C0838E58> and will run it as-is.\n",
      "Please report this to the TensorFlow team. When filing the bug, set the verbosity to 10 (on Linux, `export AUTOGRAPH_VERBOSITY=10`) and attach the full output.\n",
      "Cause: 'arguments' object has no attribute 'posonlyargs'\n",
      "To silence this warning, decorate the function with @tf.autograph.experimental.do_not_convert\n",
      "80/80 [==============================] - ETA: 0s - loss: 0.6147 - acc: 0.6575WARNING:tensorflow:AutoGraph could not transform <function Model.make_test_function.<locals>.test_function at 0x000002A6C0D3D828> and will run it as-is.\n",
      "Please report this to the TensorFlow team. When filing the bug, set the verbosity to 10 (on Linux, `export AUTOGRAPH_VERBOSITY=10`) and attach the full output.\n",
      "Cause: 'arguments' object has no attribute 'posonlyargs'\n",
      "To silence this warning, decorate the function with @tf.autograph.experimental.do_not_convert\n",
      "WARNING: AutoGraph could not transform <function Model.make_test_function.<locals>.test_function at 0x000002A6C0D3D828> and will run it as-is.\n",
      "Please report this to the TensorFlow team. When filing the bug, set the verbosity to 10 (on Linux, `export AUTOGRAPH_VERBOSITY=10`) and attach the full output.\n",
      "Cause: 'arguments' object has no attribute 'posonlyargs'\n",
      "To silence this warning, decorate the function with @tf.autograph.experimental.do_not_convert\n",
      "80/80 [==============================] - 2s 23ms/step - loss: 0.6147 - acc: 0.6575 - val_loss: 0.4924 - val_acc: 0.8180\n",
      "Epoch 2/30\n",
      "80/80 [==============================] - 2s 21ms/step - loss: 0.4398 - acc: 0.8230 - val_loss: 0.3930 - val_acc: 0.8410\n",
      "Epoch 3/30\n",
      "80/80 [==============================] - 2s 22ms/step - loss: 0.3712 - acc: 0.8480 - val_loss: 0.3356 - val_acc: 0.8690\n",
      "Epoch 4/30\n",
      "80/80 [==============================] - 2s 20ms/step - loss: 0.3187 - acc: 0.8725 - val_loss: 0.3061 - val_acc: 0.8800\n",
      "Epoch 5/30\n",
      "80/80 [==============================] - 2s 21ms/step - loss: 0.2828 - acc: 0.8910 - val_loss: 0.2836 - val_acc: 0.8860\n",
      "Epoch 6/30\n",
      "80/80 [==============================] - 2s 21ms/step - loss: 0.2561 - acc: 0.9000 - val_loss: 0.2738 - val_acc: 0.8910\n",
      "Epoch 7/30\n",
      "80/80 [==============================] - 2s 23ms/step - loss: 0.2338 - acc: 0.9095 - val_loss: 0.2635 - val_acc: 0.9000\n",
      "Epoch 8/30\n",
      "80/80 [==============================] - 2s 23ms/step - loss: 0.2189 - acc: 0.9115 - val_loss: 0.2535 - val_acc: 0.8920\n",
      "Epoch 9/30\n",
      "80/80 [==============================] - 2s 20ms/step - loss: 0.1986 - acc: 0.9290 - val_loss: 0.2475 - val_acc: 0.8970\n",
      "Epoch 10/30\n",
      "80/80 [==============================] - 2s 20ms/step - loss: 0.1899 - acc: 0.9300 - val_loss: 0.2486 - val_acc: 0.8950\n",
      "Epoch 11/30\n",
      "80/80 [==============================] - 2s 21ms/step - loss: 0.1732 - acc: 0.9405 - val_loss: 0.2399 - val_acc: 0.8960\n",
      "Epoch 12/30\n",
      "80/80 [==============================] - 2s 22ms/step - loss: 0.1563 - acc: 0.9440 - val_loss: 0.2366 - val_acc: 0.9000\n",
      "Epoch 13/30\n",
      "80/80 [==============================] - 2s 20ms/step - loss: 0.1484 - acc: 0.9485 - val_loss: 0.2361 - val_acc: 0.8960\n",
      "Epoch 14/30\n",
      "80/80 [==============================] - 2s 21ms/step - loss: 0.1342 - acc: 0.9535 - val_loss: 0.2392 - val_acc: 0.8940\n",
      "Epoch 15/30\n",
      "80/80 [==============================] - 2s 20ms/step - loss: 0.1291 - acc: 0.9550 - val_loss: 0.2381 - val_acc: 0.8950\n",
      "Epoch 16/30\n",
      "80/80 [==============================] - 2s 21ms/step - loss: 0.1242 - acc: 0.9610 - val_loss: 0.2362 - val_acc: 0.9010\n",
      "Epoch 17/30\n",
      "80/80 [==============================] - 2s 21ms/step - loss: 0.1120 - acc: 0.9625 - val_loss: 0.2380 - val_acc: 0.8990\n",
      "Epoch 18/30\n",
      "80/80 [==============================] - 2s 21ms/step - loss: 0.1008 - acc: 0.9665 - val_loss: 0.2357 - val_acc: 0.9000\n",
      "Epoch 19/30\n",
      "80/80 [==============================] - 2s 21ms/step - loss: 0.1015 - acc: 0.9650 - val_loss: 0.2389 - val_acc: 0.8990\n",
      "Epoch 20/30\n",
      "80/80 [==============================] - 2s 20ms/step - loss: 0.0880 - acc: 0.9740 - val_loss: 0.2455 - val_acc: 0.8930\n",
      "Epoch 21/30\n",
      "80/80 [==============================] - 2s 20ms/step - loss: 0.0788 - acc: 0.9770 - val_loss: 0.2411 - val_acc: 0.8960\n",
      "Epoch 22/30\n",
      "80/80 [==============================] - 2s 19ms/step - loss: 0.0765 - acc: 0.9780 - val_loss: 0.2440 - val_acc: 0.8950\n",
      "Epoch 23/30\n",
      "80/80 [==============================] - 2s 19ms/step - loss: 0.0644 - acc: 0.9850 - val_loss: 0.2631 - val_acc: 0.8930\n",
      "Epoch 24/30\n",
      "80/80 [==============================] - 2s 19ms/step - loss: 0.0636 - acc: 0.9845 - val_loss: 0.2501 - val_acc: 0.9000\n",
      "Epoch 25/30\n",
      "80/80 [==============================] - 2s 20ms/step - loss: 0.0596 - acc: 0.9845 - val_loss: 0.2491 - val_acc: 0.8990\n",
      "Epoch 26/30\n",
      "80/80 [==============================] - 2s 20ms/step - loss: 0.0530 - acc: 0.9870 - val_loss: 0.2525 - val_acc: 0.9050\n",
      "Epoch 27/30\n",
      "80/80 [==============================] - 2s 21ms/step - loss: 0.0481 - acc: 0.9920 - val_loss: 0.2552 - val_acc: 0.9030\n",
      "Epoch 28/30\n",
      "80/80 [==============================] - 2s 21ms/step - loss: 0.0406 - acc: 0.9955 - val_loss: 0.2665 - val_acc: 0.8980\n",
      "Epoch 29/30\n",
      "80/80 [==============================] - 2s 20ms/step - loss: 0.0375 - acc: 0.9945 - val_loss: 0.2602 - val_acc: 0.8990\n",
      "Epoch 30/30\n",
      "80/80 [==============================] - 2s 22ms/step - loss: 0.0324 - acc: 0.9960 - val_loss: 0.2721 - val_acc: 0.8980\n"
     ]
    }
   ],
   "source": [
    "from tensorflow.keras import models\n",
    "from tensorflow.keras import layers\n",
    "from tensorflow.keras import optimizers\n",
    "\n",
    "#adding layers\n",
    "model = models.Sequential()\n",
    "model.add(layers.Dense(256, activation='relu', input_dim=4 * 4 * 512))\n",
    "model.add(layers.Dense(256, activation='relu', input_dim=4 * 4 * 512))       #adding a new dense layer with activation='relu'\n",
    "model.add(layers.Dropout(0.5))\n",
    "model.add(layers.Dense(1, activation='sigmoid'))\n",
    "\n",
    "model.compile(optimizer=optimizers.RMSprop(learning_rate=2e-5),\n",
    "              loss='binary_crossentropy',                                    #changing loss to binary_crossentropy\n",
    "              metrics=['acc'])\n",
    "\n",
    "#training the model\n",
    "history = model.fit(train_features, train_labels,\n",
    "                    epochs=30,\n",
    "                    batch_size=25,                                          #changing batch_size to 25\n",
    "                    validation_data=(validation_features, validation_labels))"
   ]
  },
  {
   "cell_type": "markdown",
   "metadata": {},
   "source": [
    "Next, we look at the accuracy and loss curves of the model during its training."
   ]
  },
  {
   "cell_type": "code",
   "execution_count": 6,
   "metadata": {},
   "outputs": [
    {
     "data": {
      "image/png": "[encoded data removed]",
      "text/plain": [
       "<Figure size 432x288 with 1 Axes>"
      ]
     },
     "metadata": {
      "needs_background": "light"
     },
     "output_type": "display_data"
    },
    {
     "data": {
      "image/png": "[encoded data removed]",
      "text/plain": [
       "<Figure size 432x288 with 1 Axes>"
      ]
     },
     "metadata": {
      "needs_background": "light"
     },
     "output_type": "display_data"
    }
   ],
   "source": [
    "import matplotlib.pyplot as plt\n",
    "\n",
    "acc = history.history['acc']\n",
    "val_acc = history.history['val_acc']\n",
    "loss = history.history['loss']\n",
    "val_loss = history.history['val_loss']\n",
    "\n",
    "epochs = range(len(acc))\n",
    "\n",
    "plt.plot(epochs, acc, 'bo', label='Training acc')\n",
    "plt.plot(epochs, val_acc, 'b', label='Validation acc')\n",
    "plt.title('Training and validation accuracy')\n",
    "plt.legend()\n",
    "\n",
    "plt.figure()\n",
    "\n",
    "plt.plot(epochs, loss, 'bo', label='Training loss')\n",
    "plt.plot(epochs, val_loss, 'b', label='Validation loss')\n",
    "plt.title('Training and validation loss')\n",
    "plt.legend()\n",
    "\n",
    "plt.show()"
   ]
  },
  {
   "cell_type": "markdown",
   "metadata": {},
   "source": [
    "Notice that the model produces up to 99% training accuracy, but the validation accuracy started to flatten at around 90% starting at the 5th epoch. This means that the model overfitted from the dataset. The overfitting of the model can be fixed by using more parameters (such as freezing layers, data augmentation, fine tuning, etc.) before training the model. "
   ]
  },
  {
   "cell_type": "code",
   "execution_count": null,
   "metadata": {},
   "outputs": [],
   "source": []
  }
 ],
 "metadata": {
  "kernelspec": {
   "display_name": "Python 3",
   "language": "python",
   "name": "python3"
  },
  "language_info": {
   "codemirror_mode": {
    "name": "ipython",
    "version": 3
   },
   "file_extension": ".py",
   "mimetype": "text/x-python",
   "name": "python",
   "nbconvert_exporter": "python",
   "pygments_lexer": "ipython3",
   "version": "3.7.6"
  }
 },
 "nbformat": 4,
 "nbformat_minor": 4
}
