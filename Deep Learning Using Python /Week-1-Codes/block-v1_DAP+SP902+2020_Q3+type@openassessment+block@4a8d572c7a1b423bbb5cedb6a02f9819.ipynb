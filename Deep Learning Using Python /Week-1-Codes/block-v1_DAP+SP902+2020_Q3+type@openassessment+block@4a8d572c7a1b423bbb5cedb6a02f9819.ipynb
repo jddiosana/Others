{
 "cells": [
  {
   "cell_type": "code",
   "execution_count": 1,
   "id": "ebbad176",
   "metadata": {},
   "outputs": [
    {
     "name": "stdout",
     "output_type": "stream",
     "text": [
      "Requirement already satisfied: keras in c:\\users\\asus\\anaconda3\\lib\\site-packages (2.7.0)\n",
      "Note: you may need to restart the kernel to use updated packages.\n"
     ]
    }
   ],
   "source": [
    "pip install keras"
   ]
  },
  {
   "cell_type": "code",
   "execution_count": 8,
   "id": "11507e95",
   "metadata": {},
   "outputs": [],
   "source": [
    "from tensorflow import keras\n",
    "from tensorflow.keras.datasets import mnist\n",
    "from tensorflow.keras.models import Sequential\n",
    "from tensorflow.keras.layers import Dense\n",
    "from tensorflow.keras.optimizers import RMSprop\n",
    "\n",
    "#loading the data mnist\n",
    "(mnist_train_images, mnist_train_labels), (mnist_test_images, mnist_test_labels) = mnist.load_data()"
   ]
  },
  {
   "cell_type": "code",
   "execution_count": 9,
   "id": "d9a34d01",
   "metadata": {},
   "outputs": [],
   "source": [
    "#data pre-processing\n",
    "train_images = mnist_train_images.reshape(60000, 784)\n",
    "test_images = mnist_test_images.reshape(10000, 784)\n",
    "train_images = train_images.astype('float32')\n",
    "test_images = test_images.astype('float32')\n",
    "train_images /= 255\n",
    "test_images /= 255"
   ]
  },
  {
   "cell_type": "code",
   "execution_count": 10,
   "id": "0ce5e868",
   "metadata": {},
   "outputs": [],
   "source": [
    "from keras.utils.np_utils import to_categorical\n",
    "\n",
    "# convert the 0-9 labels into \"one-hot\" format.\n",
    "train_labels = keras.utils.to_categorical(mnist_train_labels,10)\n",
    "test_labels = keras.utils.to_categorical(mnist_test_labels,10)"
   ]
  },
  {
   "cell_type": "code",
   "execution_count": 14,
   "id": "bb155e02",
   "metadata": {},
   "outputs": [],
   "source": [
    "# model using 32 units\n",
    "model=Sequential()\n",
    "model.add(Dense(32, activation='tanh', input_shape=(784,)))\n",
    "model.add(Dense(32, activation='tanh'))\n",
    "model.add(Dense(1, activation='sigmoid'))"
   ]
  },
  {
   "cell_type": "code",
   "execution_count": 15,
   "id": "09557956",
   "metadata": {},
   "outputs": [],
   "source": [
    "#model compilation 32 units\n",
    "model.compile(loss='mean_squared_error',\n",
    "                optimizer='RMSprop',\n",
    "                metrics=['acc'])"
   ]
  },
  {
   "cell_type": "code",
   "execution_count": 16,
   "id": "8b14a790",
   "metadata": {},
   "outputs": [
    {
     "name": "stdout",
     "output_type": "stream",
     "text": [
      "Epoch 1/10\n",
      "1875/1875 [==============================] - 3s 1ms/step - loss: 0.0902 - acc: 0.8997 - val_loss: 0.0900 - val_acc: 0.9000\n",
      "Epoch 2/10\n",
      "1875/1875 [==============================] - 3s 1ms/step - loss: 0.0900 - acc: 0.9000 - val_loss: 0.0900 - val_acc: 0.9000 - loss: 0.0900 - acc - ETA: 1s - loss: 0.0900 - acc: 0. - ETA: 1s - loss: 0.0900 - acc - ETA: 0s - loss: 0.0900 - acc: 0.90 - ETA: 0s - loss: 0.0900 - acc:  - ETA: 0s - loss: 0.0900 - ac\n",
      "Epoch 3/10\n",
      "1875/1875 [==============================] - 3s 1ms/step - loss: 0.0900 - acc: 0.9000 - val_loss: 0.0900 - val_acc: 0.9000 1s - loss: 0.090 - ETA: 1s - loss: - ETA: 0s - loss: 0.0900 - acc: 0.900\n",
      "Epoch 4/10\n",
      "1875/1875 [==============================] - 3s 2ms/step - loss: 0.0900 - acc: 0.9000 - val_loss: 0.0900 - val_acc: 0.9000\n",
      "Epoch 5/10\n",
      "1875/1875 [==============================] - 3s 1ms/step - loss: 0.0900 - acc: 0.9000 - val_loss: 0.0900 - val_acc: 0.9000\n",
      "Epoch 6/10\n",
      "1875/1875 [==============================] - 3s 1ms/step - loss: 0.0900 - acc: 0.9000 - val_loss: 0.0900 - val_acc: 0.9000\n",
      "Epoch 7/10\n",
      "1875/1875 [==============================] - 3s 2ms/step - loss: 0.0900 - acc: 0.9000 - val_loss: 0.0900 - val_acc: 0.9000\n",
      "Epoch 8/10\n",
      "1875/1875 [==============================] - 3s 2ms/step - loss: 0.0900 - acc: 0.9000 - val_loss: 0.0900 - val_acc: 0.9000\n",
      "Epoch 9/10\n",
      "1875/1875 [==============================] - 3s 1ms/step - loss: 0.0900 - acc: 0.9000 - val_loss: 0.0900 - val_acc: 0.9000\n",
      "Epoch 10/10\n",
      "1875/1875 [==============================] - 3s 1ms/step - loss: 0.0900 - acc: 0.9000 - val_loss: 0.0900 - val_acc: 0.9000: 1s - loss - ETA: 0s - loss: 0.0900 -\n"
     ]
    }
   ],
   "source": [
    "#model training 32 units\n",
    "history=model.fit(train_images, train_labels,\n",
    "                    batch_size=32, \n",
    "                    epochs=10, \n",
    "                    verbose=1, \n",
    "                    validation_data=(test_images, test_labels))"
   ]
  },
  {
   "cell_type": "code",
   "execution_count": 17,
   "id": "39734416",
   "metadata": {},
   "outputs": [
    {
     "data": {
      "text/plain": [
       "dict_keys(['loss', 'acc', 'val_loss', 'val_acc'])"
      ]
     },
     "execution_count": 17,
     "metadata": {},
     "output_type": "execute_result"
    }
   ],
   "source": [
    "#display the history of dictionary\n",
    "history_dict = history.history\n",
    "history_dict.keys()"
   ]
  },
  {
   "cell_type": "code",
   "execution_count": 18,
   "id": "c1516823",
   "metadata": {},
   "outputs": [
    {
     "data": {
      "image/png": "[encoded data removed]",
      "text/plain": [
       "<Figure size 432x288 with 1 Axes>"
      ]
     },
     "metadata": {
      "needs_background": "light"
     },
     "output_type": "display_data"
    }
   ],
   "source": [
    "import matplotlib.pyplot as plt\n",
    "\n",
    "#plot the metrics \n",
    "acc = history.history['acc']\n",
    "val_acc = history.history['val_acc']\n",
    "loss = history.history['loss']\n",
    "val_loss = history.history['val_loss']\n",
    "\n",
    "epochs = range(1, len(acc) + 1)\n",
    "\n",
    "# \"bo\" is for \"blue dot\"\n",
    "plt.plot(epochs, loss, 'bo', label='Training loss')\n",
    "\n",
    "# b is for \"solid blue line\"\n",
    "plt.plot(epochs, val_loss, 'b', label='Validation loss')\n",
    "plt.title('Training and validation loss')\n",
    "plt.xlabel('Epochs')\n",
    "plt.ylabel('Loss')\n",
    "plt.legend()\n",
    "\n",
    "plt.show()"
   ]
  },
  {
   "cell_type": "code",
   "execution_count": 19,
   "id": "90f2cae7",
   "metadata": {},
   "outputs": [
    {
     "data": {
      "image/png": "[encoded data removed]",
      "text/plain": [
       "<Figure size 432x288 with 1 Axes>"
      ]
     },
     "metadata": {
      "needs_background": "light"
     },
     "output_type": "display_data"
    }
   ],
   "source": [
    "#plot the training and validation accuracy\n",
    "plt.clf()   \n",
    "acc_values = history_dict['acc']\n",
    "val_acc_values = history_dict['val_acc']\n",
    "\n",
    "plt.plot(epochs, acc, 'bo', label='Training acc')\n",
    "plt.plot(epochs, val_acc, 'b', label='Validation acc')\n",
    "plt.title('Training and validation accuracy')\n",
    "plt.xlabel('Epochs')\n",
    "plt.ylabel('Accuracy')\n",
    "plt.legend()\n",
    "\n",
    "plt.show()"
   ]
  },
  {
   "cell_type": "code",
   "execution_count": 20,
   "id": "cd57d718",
   "metadata": {},
   "outputs": [
    {
     "name": "stdout",
     "output_type": "stream",
     "text": [
      "Epoch 1/10\n",
      "1875/1875 [==============================] - 2s 1ms/step - loss: 0.0900 - acc: 0.9000A: 0s - loss: 0.0900 - a - ETA: 0s - loss: 0.0900 - a\n",
      "Epoch 2/10\n",
      "1875/1875 [==============================] - 2s 1ms/step - loss: 0.0900 - acc: 0.9000A: 2s - loss: 0.0900 - ETA: 1s -  - ETA: 0s - loss: 0.0900 - acc: 0.9\n",
      "Epoch 3/10\n",
      "1875/1875 [==============================] - 2s 1ms/step - loss: 0.0900 - acc: 0.9000A: 0s - loss: 0.0900 - ac\n",
      "Epoch 4/10\n",
      "1875/1875 [==============================] - 2s 1ms/step - loss: 0.0900 - acc: 0.9000A: 0s - loss: 0.0900 - acc: 0.\n",
      "Epoch 5/10\n",
      "1875/1875 [==============================] - 2s 1ms/step - loss: 0.0900 - acc: 0.9000\n",
      "Epoch 6/10\n",
      "1875/1875 [==============================] - 2s 1ms/step - loss: 0.0900 - acc: 0.9000A: 1s - loss: 0.0900 - acc:  - ETA: 1s - loss: 0.0900 - a - ETA: 0s - loss: 0.0900 - acc: 0.90 - ETA: 0s - loss: 0.09\n",
      "Epoch 7/10\n",
      "1875/1875 [==============================] - 2s 1ms/step - loss: 0.0900 - acc: 0.9000A: 1s - loss: 0.0900 -  - ETA: 1s -\n",
      "Epoch 8/10\n",
      "1875/1875 [==============================] - 3s 1ms/step - loss: 0.0900 - acc: 0.9000\n",
      "Epoch 9/10\n",
      "1875/1875 [==============================] - 3s 1ms/step - loss: 0.0900 - acc: 0.9000A:\n",
      "Epoch 10/10\n",
      "1875/1875 [==============================] - 2s 1ms/step - loss: 0.0900 - acc: 0.9000A: 1s - loss: 0.0900  - ETA: 1s - los\n",
      "313/313 [==============================] - 0s 1ms/step - loss: 0.0900 - acc: 0.9000\n"
     ]
    },
    {
     "data": {
      "text/plain": [
       "[0.09000202268362045, 0.8999972939491272]"
      ]
     },
     "execution_count": 20,
     "metadata": {},
     "output_type": "execute_result"
    }
   ],
   "source": [
    "#print the results\n",
    "model.fit(train_images, train_labels, epochs=10, batch_size=32)\n",
    "output = model.evaluate(test_images, test_labels)\n",
    "output"
   ]
  },
  {
   "cell_type": "code",
   "execution_count": 21,
   "id": "9acce0e5",
   "metadata": {},
   "outputs": [],
   "source": [
    "# model using 64 units\n",
    "model=Sequential()\n",
    "model.add(Dense(64, activation='tanh', input_shape=(784,)))\n",
    "model.add(Dense(64, activation='tanh'))\n",
    "model.add(Dense(1, activation='sigmoid'))"
   ]
  },
  {
   "cell_type": "code",
   "execution_count": 22,
   "id": "904f5a9f",
   "metadata": {},
   "outputs": [],
   "source": [
    "#model compilation 64 units\n",
    "model.compile(loss='mean_squared_error',\n",
    "                optimizer='RMSprop',\n",
    "                metrics=['acc'])"
   ]
  },
  {
   "cell_type": "code",
   "execution_count": 23,
   "id": "5f03becd",
   "metadata": {},
   "outputs": [
    {
     "name": "stdout",
     "output_type": "stream",
     "text": [
      "Epoch 1/10\n",
      "938/938 [==============================] - 3s 2ms/step - loss: 0.0904 - acc: 0.8995 - val_loss: 0.0900 - val_acc: 0.9000\n",
      "Epoch 2/10\n",
      "938/938 [==============================] - 2s 2ms/step - loss: 0.0900 - acc: 0.9000 - val_loss: 0.0900 - val_acc: 0.9000\n",
      "Epoch 3/10\n",
      "938/938 [==============================] - 2s 2ms/step - loss: 0.0900 - acc: 0.9000 - val_loss: 0.0900 - val_acc: 0.9000\n",
      "Epoch 4/10\n",
      "938/938 [==============================] - 2s 2ms/step - loss: 0.0900 - acc: 0.9000 - val_loss: 0.0900 - val_acc: 0.9000\n",
      "Epoch 5/10\n",
      "938/938 [==============================] - 2s 2ms/step - loss: 0.0900 - acc: 0.9000 - val_loss: 0.0900 - val_acc: 0.9000\n",
      "Epoch 6/10\n",
      "938/938 [==============================] - 2s 2ms/step - loss: 0.0900 - acc: 0.9000 - val_loss: 0.0900 - val_acc: 0.9000\n",
      "Epoch 7/10\n",
      "938/938 [==============================] - 2s 2ms/step - loss: 0.0900 - acc: 0.9000 - val_loss: 0.0900 - val_acc: 0.9000\n",
      "Epoch 8/10\n",
      "938/938 [==============================] - 2s 2ms/step - loss: 0.0900 - acc: 0.9000 - val_loss: 0.0900 - val_acc: 0.9000\n",
      "Epoch 9/10\n",
      "938/938 [==============================] - 2s 2ms/step - loss: 0.0900 - acc: 0.9000 - val_loss: 0.0900 - val_acc: 0.9000\n",
      "Epoch 10/10\n",
      "938/938 [==============================] - 2s 2ms/step - loss: 0.0900 - acc: 0.9000 - val_loss: 0.0900 - val_acc: 0.9000\n"
     ]
    }
   ],
   "source": [
    "#model training 64 units\n",
    "history=model.fit(train_images, train_labels,\n",
    "                    batch_size=64, \n",
    "                    epochs=10, \n",
    "                    verbose=1, \n",
    "                    validation_data=(test_images, test_labels))"
   ]
  },
  {
   "cell_type": "code",
   "execution_count": 24,
   "id": "4836f565",
   "metadata": {},
   "outputs": [
    {
     "data": {
      "text/plain": [
       "dict_keys(['loss', 'acc', 'val_loss', 'val_acc'])"
      ]
     },
     "execution_count": 24,
     "metadata": {},
     "output_type": "execute_result"
    }
   ],
   "source": [
    "#display the history of dictionary\n",
    "history_dict = history.history\n",
    "history_dict.keys()"
   ]
  },
  {
   "cell_type": "code",
   "execution_count": 25,
   "id": "679c25a4",
   "metadata": {},
   "outputs": [
    {
     "data": {
      "image/png": "[encoded data removed]",
      "text/plain": [
       "<Figure size 432x288 with 1 Axes>"
      ]
     },
     "metadata": {
      "needs_background": "light"
     },
     "output_type": "display_data"
    }
   ],
   "source": [
    "import matplotlib.pyplot as plt\n",
    "\n",
    "#plot the metrics \n",
    "acc = history.history['acc']\n",
    "val_acc = history.history['val_acc']\n",
    "loss = history.history['loss']\n",
    "val_loss = history.history['val_loss']\n",
    "\n",
    "epochs = range(1, len(acc) + 1)\n",
    "\n",
    "# \"bo\" is for \"blue dot\"\n",
    "plt.plot(epochs, loss, 'bo', label='Training loss')\n",
    "\n",
    "# b is for \"solid blue line\"\n",
    "plt.plot(epochs, val_loss, 'b', label='Validation loss')\n",
    "plt.title('Training and validation loss')\n",
    "plt.xlabel('Epochs')\n",
    "plt.ylabel('Loss')\n",
    "plt.legend()\n",
    "\n",
    "plt.show()"
   ]
  },
  {
   "cell_type": "code",
   "execution_count": 29,
   "id": "a8159c01",
   "metadata": {},
   "outputs": [
    {
     "data": {
      "image/png": "[encoded data removed]",
      "text/plain": [
       "<Figure size 432x288 with 1 Axes>"
      ]
     },
     "metadata": {
      "needs_background": "light"
     },
     "output_type": "display_data"
    }
   ],
   "source": [
    "#plot the training and validation accuracy\n",
    "plt.clf()   \n",
    "acc_output = history_dict['acc']\n",
    "val_acc_output = history_dict['val_acc']\n",
    "\n",
    "plt.plot(epochs, acc, 'bo', label='Training accuracy')\n",
    "plt.plot(epochs, val_acc, 'b', label='Validation accuracy')\n",
    "plt.title('Training and validation accuracy')\n",
    "plt.xlabel('Epochs')\n",
    "plt.ylabel('Accuracy')\n",
    "plt.legend()\n",
    "\n",
    "plt.show()"
   ]
  },
  {
   "cell_type": "code",
   "execution_count": 28,
   "id": "7e77daec",
   "metadata": {},
   "outputs": [
    {
     "name": "stdout",
     "output_type": "stream",
     "text": [
      "Epoch 1/10\n",
      "938/938 [==============================] - 2s 2ms/step - loss: 0.0900 - acc: 0.9000A: 1s - loss: 0.0900 - acc: 0.90 - ETA: 0s - loss: 0.\n",
      "Epoch 2/10\n",
      "938/938 [==============================] - 2s 2ms/step - loss: 0.0900 - acc: 0.9000\n",
      "Epoch 3/10\n",
      "938/938 [==============================] - 2s 2ms/step - loss: 0.0900 - acc: 0.9000\n",
      "Epoch 4/10\n",
      "938/938 [==============================] - 2s 2ms/step - loss: 0.0900 - acc: 0.9000A: 1s - loss: \n",
      "Epoch 5/10\n",
      "938/938 [==============================] - 2s 2ms/step - loss: 0.0900 - acc: 0.9000A: 0s - loss: 0.0900 - acc: 0.90 - ETA: 0s - loss: 0.0900 -  - ETA: 0s - loss: 0.0900 - acc: \n",
      "Epoch 6/10\n",
      "938/938 [==============================] - 2s 2ms/step - loss: 0.0900 - acc: 0.9000A: 0s - loss: 0.\n",
      "Epoch 7/10\n",
      "938/938 [==============================] - 2s 2ms/step - loss: 0.0900 - acc: 0.9000A: 1s -\n",
      "Epoch 8/10\n",
      "938/938 [==============================] - 1s 2ms/step - loss: 0.0900 - acc: 0.9000\n",
      "Epoch 9/10\n",
      "938/938 [==============================] - 1s 2ms/step - loss: 0.0900 - acc: 0.9000A: 0s - loss: \n",
      "Epoch 10/10\n",
      "938/938 [==============================] - 2s 2ms/step - loss: 0.0900 - acc: 0.9000\n",
      "313/313 [==============================] - 0s 1ms/step - loss: 0.0900 - acc: 0.9000\n"
     ]
    },
    {
     "data": {
      "text/plain": [
       "[0.0900072529911995, 0.8999972939491272]"
      ]
     },
     "execution_count": 28,
     "metadata": {},
     "output_type": "execute_result"
    }
   ],
   "source": [
    "#print the results\n",
    "model.fit(train_images, train_labels, epochs=10, batch_size=64)\n",
    "output = model.evaluate(test_images, test_labels)\n",
    "output"
   ]
  },
  {
   "cell_type": "code",
   "execution_count": null,
   "id": "be899979",
   "metadata": {},
   "outputs": [],
   "source": []
  }
 ],
 "metadata": {
  "kernelspec": {
   "display_name": "Python 3",
   "language": "python",
   "name": "python3"
  },
  "language_info": {
   "codemirror_mode": {
    "name": "ipython",
    "version": 3
   },
   "file_extension": ".py",
   "mimetype": "text/x-python",
   "name": "python",
   "nbconvert_exporter": "python",
   "pygments_lexer": "ipython3",
   "version": "3.8.8"
  }
 },
 "nbformat": 4,
 "nbformat_minor": 5
}
